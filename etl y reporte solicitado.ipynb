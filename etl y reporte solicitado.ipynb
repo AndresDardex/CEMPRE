{
 "cells": [
  {
   "cell_type": "code",
   "execution_count": 4,
   "id": "afd14eac",
   "metadata": {},
   "outputs": [],
   "source": [
    "# === ETL completo: Región, Familia, Empresa transformadora (CON DISTRIBUCIÓN POR PORCENTAJE) ===\n",
    "import pandas as pd\n",
    "import numpy as np\n",
    "import unicodedata\n",
    "import re\n"
   ]
  },
  {
   "cell_type": "code",
   "execution_count": 5,
   "id": "b368e979",
   "metadata": {},
   "outputs": [],
   "source": [
    "# --- Utilidades ---\n",
    "def _norm(s):\n",
    "    s = \"\" if pd.isna(s) else str(s).strip()\n",
    "    s = unicodedata.normalize(\"NFD\", s)\n",
    "    s = \"\".join(ch for ch in s if unicodedata.category(ch) != \"Mn\")\n",
    "    for ch in \"()[]{}.,;:-_/\\\\\\\"'\":\n",
    "        s = s.replace(ch, \" \")\n",
    "    return \" \".join(s.lower().split())"
   ]
  },
  {
   "cell_type": "code",
   "execution_count": 6,
   "id": "67dd7959",
   "metadata": {},
   "outputs": [],
   "source": [
    "\n",
    "def clean_text(s):\n",
    "    if pd.isna(s):\n",
    "        return \"\"\n",
    "    s = str(s).lower()\n",
    "    s = re.sub(r\"\\(.*?\\)\", \"\", s)\n",
    "    s = re.sub(r\"[^a-z0-9áéíóúñ\\s\\-]\", \" \", s)\n",
    "    s = re.sub(r\"\\s+\", \" \", s).strip()\n",
    "    return s"
   ]
  },
  {
   "cell_type": "code",
   "execution_count": 7,
   "id": "56e0dae2",
   "metadata": {},
   "outputs": [],
   "source": [
    "def map_family(txt):\n",
    "    t = clean_text(txt)\n",
    "    if not t:\n",
    "        return (\"Papel\", \"baja\") \n",
    "    if \"pet\" in t or \"tereftalato\" in t:\n",
    "        return (\"PET\", \"alta\")\n",
    "    if \"tetra\" in t or \"bebidas\" in t:\n",
    "        return (\"Cartón para bebidas\", \"alta\")\n",
    "    if any(w in t for w in [\"cartón\",\"carton\", \"kraft\", \"kraf\", \"plegad\", \"corrugado\", \"empaque de carton\"]):\n",
    "        return (\"Cartón\", \"alta\")\n",
    "    if any(w in t for w in [\"papel\", \"archivo\", \"periodico\", \"pasta\", \"bond\", \"impresion\"]):\n",
    "        return (\"Papel\", \"alta\")\n",
    "    if \"vidrio\" in t:\n",
    "        return (\"Vidrio\", \"alta\")\n",
    "    if any(w in t for w in [\"polietileno alta\", \"hdpe\", \"polietileno de alta\", \"alta densidad\"]):\n",
    "        return (\"PE - PP Rígido\", \"alta\")\n",
    "    if \"polipropileno\" in t or re.search(r\"\\bpp\\b\", t) or \"rigido\" in t:\n",
    "        return (\"PE - PP Rígido\", \"alta\")\n",
    "    if any(w in t for w in [\"polietileno baja\", \"ldpe\", \"polietileno de baja\", \"baja densidad\", \"flexible\", \"pelicula\", \"bolsa\"]):\n",
    "        return (\"PE - PP Flexible\", \"alta\")\n",
    "    if any(w in t for w in [\"aluminio\", \"cobre\", \"bronce\", \"lata\", \"no ferroso\", \"no ferr\"]):\n",
    "        return (\"Metales No Ferrosos\", \"alta\")\n",
    "    if any(w in t for w in [\"acero\", \"chatarra\", \"hierro\", \"ferroso\", \"ferr\", \"metal\"]):\n",
    "        return (\"Metales Ferrosos\", \"media\")\n",
    "    if any(w in t for w in [\"pvc\", \"policloruro\", \"plástico\", \"plastico\", \"plastificado\", \"acrilico\", \"poliestireno\", \"ps\", \"polimero\"]):\n",
    "        return (\"Otros Plásticos\", \"media\")\n",
    "    if any(w in t for w in [\"mader\", \"madera\", \"textil\", \"tela\"]):\n",
    "        return (\"Papel\", \"baja\")\n",
    "    if \"metal\" in t:\n",
    "        return (\"Metales Ferrosos\", \"baja\")\n",
    "    if any(w in t for w in [\"poliet\", \"poli\"]):\n",
    "        return (\"Otros Plásticos\", \"baja\")\n",
    "    return (\"Papel\", \"baja\")"
   ]
  },
  {
   "cell_type": "code",
   "execution_count": 8,
   "id": "36ed1c86",
   "metadata": {},
   "outputs": [],
   "source": [
    "def _cargar_hoja(xls, opciones):\n",
    "    opciones_norm = {_norm(o): o for o in opciones}\n",
    "    for sh in xls.sheet_names:\n",
    "        if _norm(sh) in opciones_norm:\n",
    "            return pd.read_excel(xls, sh)\n",
    "    for o in opciones:\n",
    "        try:\n",
    "            return pd.read_excel(xls, o)\n",
    "        except Exception:\n",
    "            continue\n",
    "    return None"
   ]
  },
  {
   "cell_type": "code",
   "execution_count": 9,
   "id": "c536a40c",
   "metadata": {},
   "outputs": [],
   "source": [
    "\n",
    "def _renombrar_reporte_inicial(df):\n",
    "    alias = {\n",
    "        \"nombre del gestor\": \"Gestor\",\n",
    "        \"nit\": \"NIT\",\n",
    "        \"fecha de transaccion dd mm aaaa\": \"Fecha de transacción\",\n",
    "        \"fecha de transaccion\": \"Fecha de transacción\",\n",
    "        \"no de factura res dian\": \"No de factura\",\n",
    "        \"no de factura\": \"No de factura\",\n",
    "        \"ciudad o municipio de ubicacion de la eca\": \"Municipio\",\n",
    "        \"municipio\": \"Municipio\",\n",
    "        \"tipo de material entregado\": \"Tipo de Material\",\n",
    "        \"tipo de material\": \"Tipo de Material\",\n",
    "        \"material\": \"Tipo de Material\",\n",
    "        \"cantidad entregada kg\": \"Cantidad entregada (Kg)\",\n",
    "        \"intermediario o empresa transformadora receptora\": \"Intermediario 1\",\n",
    "        \"intermediario o empresa transformadora\": \"Intermediario 1\",\n",
    "        \"intermediario 1\": \"Intermediario 1\",\n",
    "        \"nit de intermediario o transformador\": \"NIT del Comprador\",\n",
    "        \"nit del comprador\": \"NIT del Comprador\",\n",
    "    }\n",
    "    new_cols = {}\n",
    "    for c in df.columns:\n",
    "        nc = _norm(c)\n",
    "        if nc in alias:\n",
    "            new_cols[c] = alias[nc]\n",
    "    df = df.rename(columns=new_cols).copy()\n",
    "    requeridas = [\n",
    "        \"Gestor\",\"Fecha de transacción\",\"No de factura\",\"Municipio\",\n",
    "        \"Tipo de Material\",\"Cantidad entregada (Kg)\",\"Intermediario 1\",\"NIT del Comprador\"\n",
    "    ]\n",
    "    faltan = [c for c in requeridas if c not in df.columns]\n",
    "    if faltan:\n",
    "        raise ValueError(\"Faltan columnas requeridas en 'Reporte Inicial': \" + \", \".join(faltan) + f\". Encabezados leídos: {list(df.columns)}\")\n",
    "    return df"
   ]
  },
  {
   "cell_type": "code",
   "execution_count": 10,
   "id": "cd0ffe59",
   "metadata": {},
   "outputs": [],
   "source": [
    "\n",
    "def _renombrar_factor_ee(df):\n",
    "    alias = {\n",
    "        \"material\": \"Tipo de Material\",\n",
    "        \"tipo de material\": \"Tipo de Material\",\n",
    "        \"factor envases y empaques\": \"Factor Envases y empaques\",\n",
    "        \"factor ee\": \"Factor Envases y empaques\",\n",
    "        \"factor e e\": \"Factor Envases y empaques\",\n",
    "    }\n",
    "    new_cols = {}\n",
    "    for c in df.columns:\n",
    "        nc = _norm(c)\n",
    "        if nc in alias:\n",
    "            new_cols[c] = alias[nc]\n",
    "    df = df.rename(columns=new_cols).copy()\n",
    "    if \"Tipo de Material\" not in df.columns:\n",
    "        raise ValueError(\"La hoja de factores no tiene la columna 'Material' o 'Tipo de Material'.\")\n",
    "    if \"Factor Envases y empaques\" not in df.columns:\n",
    "        df[\"Factor Envases y empaques\"] = np.nan\n",
    "    return df[[\"Tipo de Material\",\"Factor Envases y empaques\"]].drop_duplicates()"
   ]
  },
  {
   "cell_type": "code",
   "execution_count": 11,
   "id": "c385d234",
   "metadata": {},
   "outputs": [],
   "source": [
    "\n",
    "NORMALIZACION_MUNS = {\n",
    "    '5001': 'MEDELLÍN',\n",
    "    '5088': 'BELLO', \n",
    "    '5615': 'RIONEGRO', \n",
    "    'CALI': 'SANTIAGO DE CALI', \n",
    "    'CÚCUTA': 'SAN JOSÉ DE CÚCUTA', \n",
    "    'Cúcuta': 'SAN JOSÉ DE CÚCUTA',\n",
    "    'TOLU': 'SANTIAGO DE TOLÚ',\n",
    "    \"MEDELLIN\": \"MEDELLÍN\",\n",
    "    \"ITAGUI\": \"ITAGÜÍ\",\n",
    "    \"CALARCA\": \"CALARCÁ\",\n",
    "    \"CARMEN DE APICALA\": \"CARMEN DE APICALÁ\",\n",
    "    \"FACATATIVA\": \"FACATATIVÁ\",\n",
    "    \"CUCUTA\": \"SAN JOSÉ DE CÚCUTA\",\n",
    "    \"SOLEDAD \": \"SOLEDAD\",\n",
    "    \"BOGOTA\": \"BOGOTÁ, D.C.\",\n",
    "    \"BOGOTA, D.C.\": \"BOGOTÁ, D.C.\",\n",
    "    \"IBAGUE\": \"IBAGUÉ\",\n",
    "    \"SANTIAGO DE TOLU\": \"SANTIAGO DE TOLÚ\",\n",
    "    \"DOS QUEBRADAS\": \"DOSQUEBRADAS\",\n",
    "    \"VILLAO\": \"VILLAVICENCIO\",\n",
    "    \"PATIOS\": \"LOS PATIOS\"\n",
    "}\n"
   ]
  },
  {
   "cell_type": "code",
   "execution_count": 12,
   "id": "2367e31f",
   "metadata": {},
   "outputs": [],
   "source": [
    "def _normalizar_municipio_valor(v):\n",
    "    if pd.isna(v):\n",
    "        return v\n",
    "    v2 = str(v).strip().upper()\n",
    "    if v2 in NORMALIZACION_MUNS:\n",
    "        return NORMALIZACION_MUNS[v2]\n",
    "    return v2.title() if v2.isalpha() else v2"
   ]
  },
  {
   "cell_type": "code",
   "execution_count": 13,
   "id": "cb44bfa6",
   "metadata": {},
   "outputs": [],
   "source": [
    "def _agregar_clave_municipio(df, col_mun=\"Municipio\"):\n",
    "    df[col_mun] = df[col_mun].apply(_normalizar_municipio_valor)\n",
    "    df[\"mun_key\"] = df[col_mun].apply(_norm)\n",
    "    return df"
   ]
  },
  {
   "cell_type": "code",
   "execution_count": 14,
   "id": "5b1d9000",
   "metadata": {},
   "outputs": [],
   "source": [
    "def _cargar_mapa_regiones(regiones_path):\n",
    "    reg = pd.read_excel(regiones_path)\n",
    "    ren = {}\n",
    "    for c in reg.columns:\n",
    "        nc = _norm(c)\n",
    "        if nc in (\"municipio\", \"municipio normalizado\", \"ciudad o municipio\", \"municipios\"):\n",
    "            ren[c] = \"Municipio\"\n",
    "        elif nc in (\"region\", \"regiones\", \"region pdet\"):\n",
    "            ren[c] = \"Región\"\n",
    "    reg = reg.rename(columns=ren)\n",
    "    if \"Municipio\" not in reg.columns or \"Región\" not in reg.columns:\n",
    "        raise ValueError(f\"El archivo de regiones debe tener columnas 'Municipio' y 'Región'. Columnas encontradas: {list(reg.columns)}\")\n",
    "    reg = _agregar_clave_municipio(reg, \"Municipio\")\n",
    "    reg = reg.sort_values([\"mun_key\", \"Región\"], na_position=\"last\").drop_duplicates(subset=[\"mun_key\"], keep=\"first\")\n",
    "    return reg[[\"mun_key\", \"Región\"]]"
   ]
  },
  {
   "cell_type": "code",
   "execution_count": 15,
   "id": "9e9a9020",
   "metadata": {},
   "outputs": [],
   "source": [
    "# --- ETL principal ---\n",
    "xls_path = \"Copia de Analista de datos_prueba excel.xlsx\"\n",
    "regiones_path = \"regiones.xlsx\"\n",
    "\n",
    "xls = pd.ExcelFile(xls_path)\n",
    "rep_ini = _cargar_hoja(xls, [\"Reporte Inicial\",\"Reporte inicial\",\"reporte inicial\"])\n",
    "if rep_ini is None:\n",
    "    raise ValueError(f\"No se encontró la hoja 'Reporte Inicial'. Hojas disponibles: {xls.sheet_names}\")\n",
    "iniciativas = _cargar_hoja(xls, [\"Iniciativas\",\"iniciativas\"])\n",
    "factor_ee = _cargar_hoja(xls, [\"Factor Envases y empaques\",\"Factor envases y empaques\",\"FactorEE\"])\n",
    "porcentajes_empresas = _cargar_hoja(xls, [\"Porcentajes empresas\",\"Porcentajes Empresas\",\"porcentajes empresas\"])\n",
    "precert = _cargar_hoja(xls, [\"Condiciones precertificación\",\"Condiciones precertificacion\",\"Precertificacion\"])"
   ]
  },
  {
   "cell_type": "code",
   "execution_count": 16,
   "id": "5fcb022f",
   "metadata": {},
   "outputs": [],
   "source": [
    "\n",
    "# Reporte base\n",
    "df = _renombrar_reporte_inicial(rep_ini)\n",
    "df = _agregar_clave_municipio(df, \"Municipio\")\n",
    "reg_map = _cargar_mapa_regiones(regiones_path)\n",
    "df = df.merge(reg_map, on=\"mun_key\", how=\"left\")"
   ]
  },
  {
   "cell_type": "code",
   "execution_count": 17,
   "id": "894b7e9e",
   "metadata": {},
   "outputs": [],
   "source": [
    "# Fechas y métricas base\n",
    "df[\"Cantidad entregada (Kg)\"] = pd.to_numeric(df[\"Cantidad entregada (Kg)\"], errors=\"coerce\")\n",
    "df[\"Fecha de transacción\"] = pd.to_datetime(df[\"Fecha de transacción\"], dayfirst=True, errors=\"coerce\")\n",
    "df[\"Año\"] = df[\"Fecha de transacción\"].dt.year\n",
    "df[\"Periodo\"] = df[\"Fecha de transacción\"].dt.to_period(\"M\").astype(str)\n",
    "df[\"Fecha de transacción\"] = df[\"Fecha de transacción\"].dt.strftime(\"%Y/%m/%d\")"
   ]
  },
  {
   "cell_type": "code",
   "execution_count": 18,
   "id": "90272a71",
   "metadata": {},
   "outputs": [],
   "source": [
    "# Iniciativa por Gestor\n",
    "if iniciativas is not None:\n",
    "    iniciativas = iniciativas.rename(columns={\"Gestor\":\"Gestor\",\"Iniciativa\":\"Iniciativa\"})\n",
    "    df = df.merge(iniciativas[[\"Gestor\",\"Iniciativa\"]].drop_duplicates(), on=\"Gestor\", how=\"left\")"
   ]
  },
  {
   "cell_type": "code",
   "execution_count": 19,
   "id": "2e724e81",
   "metadata": {},
   "outputs": [],
   "source": [
    "# Familia desde heurística\n",
    "fam = df[\"Tipo de Material\"].apply(lambda x: pd.Series(map_family(x), index=[\"Familia\",\"confianza_familia\"]))\n",
    "df = pd.concat([df, fam], axis=1)"
   ]
  },
  {
   "cell_type": "code",
   "execution_count": 20,
   "id": "93f4ad6a",
   "metadata": {},
   "outputs": [],
   "source": [
    "# Factor E&E\n",
    "if factor_ee is not None:\n",
    "    fe = _renombrar_factor_ee(factor_ee)\n",
    "    df = df.merge(fe, on=\"Tipo de Material\", how=\"left\")\n",
    "else:\n",
    "    df[\"Factor Envases y empaques\"] = np.nan"
   ]
  },
  {
   "cell_type": "code",
   "execution_count": 21,
   "id": "d05e76ca",
   "metadata": {},
   "outputs": [],
   "source": [
    "# IMPORTANTE: Guardar cantidades originales ANTES de la distribución por empresa\n",
    "df[\"Cantidad_Original_Kg\"] = df[\"Cantidad entregada (Kg)\"]\n",
    "df[\"Cantidad entregada (Ton)\"] = df[\"Cantidad entregada (Kg)\"] / 1000.0\n",
    "df[\"Cantidad de E&E (Ton)\"] = df[\"Cantidad entregada (Ton)\"] * df[\"Factor Envases y empaques\"]"
   ]
  },
  {
   "cell_type": "code",
   "execution_count": 22,
   "id": "82b36ad6",
   "metadata": {},
   "outputs": [],
   "source": [
    "# Certificación\n",
    "if precert is not None:\n",
    "    pr = precert.rename(columns={\n",
    "        \"Intermediario /Transformador\":\"Intermediario 1\",\n",
    "        \"Intermediario/Transformador\":\"Intermediario 1\",\n",
    "        \"Material\":\"Tipo de Material\"\n",
    "    })\n",
    "    pr = pr[[\"Intermediario 1\",\"Tipo de Material\"]].drop_duplicates()\n",
    "    df = df.merge(pr, on=[\"Intermediario 1\",\"Tipo de Material\"], how=\"left\", indicator=\"i_prec\")\n",
    "    df[\"Certificado\"] = df[\"i_prec\"].eq(\"both\")\n",
    "    df = df.drop(columns=[\"i_prec\"])\n",
    "else:\n",
    "    df[\"Certificado\"] = False"
   ]
  },
  {
   "cell_type": "code",
   "execution_count": 23,
   "id": "1f7f5808",
   "metadata": {},
   "outputs": [],
   "source": [
    "# *** CAMBIO CLAVE: Empresa transformadora con DISTRIBUCIÓN por porcentaje ***\n",
    "if porcentajes_empresas is not None:\n",
    "    pe = porcentajes_empresas.copy()\n",
    "    ren = {}\n",
    "    for c in pe.columns:\n",
    "        nc = _norm(c)\n",
    "        if nc in (\"iniciativa\",):\n",
    "            ren[c] = \"Iniciativa\"\n",
    "        elif nc in (\"familia de material\", \"familia\", \"familia material\"):\n",
    "            ren[c] = \"Familia\"\n",
    "        elif nc in (\"empresa\", \"empresa transformadora\"):\n",
    "            ren[c] = \"Empresa transformadora\"\n",
    "        elif nc in (\"porcentaje de asignacion\", \"porcentaje\", \"porcentaje asignacion\"):\n",
    "            ren[c] = \"Porcentaje de asignación\"\n",
    "    pe = pe.rename(columns=ren)\n",
    "    if \"Porcentaje de asignación\" in pe.columns:\n",
    "        pe[\"Porcentaje de asignación\"] = pd.to_numeric(pe[\"Porcentaje de asignación\"], errors=\"coerce\")\n",
    "    else:\n",
    "        pe[\"Porcentaje de asignación\"] = 1.0\n",
    "    \n",
    "    # Hacer merge que EXPANDE las filas: cada factura se replica por cada empresa\n",
    "    df = df.merge(pe[[\"Iniciativa\",\"Familia\",\"Empresa transformadora\",\"Porcentaje de asignación\"]], \n",
    "                  on=[\"Iniciativa\",\"Familia\"], how=\"left\")\n",
    "    \n",
    "    # Distribuir cantidades proporcionalmente según el porcentaje de cada empresa\n",
    "    df[\"Cantidad entregada (Kg)\"] = df[\"Cantidad_Original_Kg\"] * df[\"Porcentaje de asignación\"]\n",
    "    df[\"Cantidad entregada (Ton)\"] = df[\"Cantidad entregada (Kg)\"] / 1000.0\n",
    "    df[\"Cantidad de E&E (Ton)\"] = df[\"Cantidad entregada (Ton)\"] * df[\"Factor Envases y empaques\"]\n",
    "else:\n",
    "    df[\"Empresa transformadora\"] = np.nan\n",
    "    df[\"Porcentaje de asignación\"] = np.nan"
   ]
  },
  {
   "cell_type": "code",
   "execution_count": 24,
   "id": "cc325b91",
   "metadata": {},
   "outputs": [],
   "source": [
    "# Columnas finales\n",
    "cols = [\n",
    "    \"Año\",\"Periodo\",\"Región\",\"Municipio\",\"Iniciativa\",\"Fecha de transacción\",\"No de factura\",\n",
    "    \"Tipo de Material\",\"Familia\",\"Cantidad entregada (Kg)\",\"Cantidad entregada (Ton)\",\"Cantidad de E&E (Ton)\",\n",
    "    \"Intermediario 1\",\"Empresa transformadora\",\"Certificado\",\"Gestor\",\"NIT del Comprador\"\n",
    "]\n",
    "for c in cols:\n",
    "    if c not in df.columns:\n",
    "        df[c] = np.nan\n",
    "        \n",
    "reporte_solicitado = df[cols].sort_values([\"Año\",\"Periodo\",\"Iniciativa\",\"Municipio\",\"No de factura\"])"
   ]
  },
  {
   "cell_type": "code",
   "execution_count": 25,
   "id": "1468932d",
   "metadata": {},
   "outputs": [],
   "source": [
    "# Agregados\n",
    "agg_tipo = reporte_solicitado.groupby([\"Año\",\"Periodo\",\"Iniciativa\",\"Tipo de Material\"], as_index=False).agg({\n",
    "    \"Cantidad entregada (Kg)\":\"sum\",\n",
    "    \"Cantidad entregada (Ton)\":\"sum\",\n",
    "    \"Cantidad de E&E (Ton)\":\"sum\"\n",
    "})\n",
    "agg_familia = reporte_solicitado.groupby([\"Año\",\"Periodo\",\"Iniciativa\",\"Familia\"], as_index=False).agg({\n",
    "    \"Cantidad entregada (Kg)\":\"sum\",\n",
    "    \"Cantidad entregada (Ton)\":\"sum\",\n",
    "    \"Cantidad de E&E (Ton)\":\"sum\"\n",
    "})"
   ]
  },
  {
   "cell_type": "code",
   "execution_count": 26,
   "id": "edfa9a77",
   "metadata": {},
   "outputs": [],
   "source": [
    "# Guardar\n",
    "reporte_solicitado.to_csv(\"reporte_solicitado.csv\", index=False, encoding=\"utf-8-sig\")\n",
    "agg_tipo.to_csv(\"agg_por_tipo.csv\", index=False, encoding=\"utf-8-sig\")\n",
    "agg_familia.to_csv(\"agg_por_familia.csv\", index=False, encoding=\"utf-8-sig\")"
   ]
  }
 ],
 "metadata": {
  "kernelspec": {
   "display_name": "Python 3",
   "language": "python",
   "name": "python3"
  },
  "language_info": {
   "codemirror_mode": {
    "name": "ipython",
    "version": 3
   },
   "file_extension": ".py",
   "mimetype": "text/x-python",
   "name": "python",
   "nbconvert_exporter": "python",
   "pygments_lexer": "ipython3",
   "version": "3.13.9"
  }
 },
 "nbformat": 4,
 "nbformat_minor": 5
}
